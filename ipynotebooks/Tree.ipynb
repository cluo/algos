{
 "cells": [
  {
   "cell_type": "code",
   "execution_count": 41,
   "metadata": {
    "collapsed": false
   },
   "outputs": [],
   "source": [
    "class Tree:\n",
    "    def __init__(self, data):\n",
    "        self.parent = None\n",
    "        self.data = data\n",
    "        self.children = list()\n",
    "        print \"Tree Init\"\n",
    "        \n",
    "    def insert(self, data):\n",
    "        self.children.append(Tree(data))\n",
    "        \n",
    "    def printtree(self):\n",
    "        print self.data\n",
    "        for child in self.children:\n",
    "            print str(self.data)\n",
    "        "
   ]
  },
  {
   "cell_type": "code",
   "execution_count": 42,
   "metadata": {
    "collapsed": false
   },
   "outputs": [],
   "source": [
    "class Person:\n",
    "    def __init__(self, name, age=0):\n",
    "        self.name = name\n",
    "        self.age = age\n",
    "    def __str__(self):\n",
    "        return \"Name: \"+ self.name + \", Age: \" + str(self.age)"
   ]
  },
  {
   "cell_type": "code",
   "execution_count": 46,
   "metadata": {
    "collapsed": false
   },
   "outputs": [
    {
     "name": "stdout",
     "output_type": "stream",
     "text": [
      "Tree Init\n",
      "Tree Init\n"
     ]
    }
   ],
   "source": [
    "\n",
    "naren = Person(\"naren\", 27)\n",
    "susmi = Person(\"Susmi\", 26)\n",
    "\n",
    "\n",
    "n = Tree(naren)\n",
    "\n",
    "n.insert(susmi)\n"
   ]
  },
  {
   "cell_type": "code",
   "execution_count": 47,
   "metadata": {
    "collapsed": false
   },
   "outputs": [
    {
     "name": "stdout",
     "output_type": "stream",
     "text": [
      "Name: naren, Age: 27\n",
      "Name: naren, Age: 27\n"
     ]
    }
   ],
   "source": [
    "n.printtree()"
   ]
  },
  {
   "cell_type": "code",
   "execution_count": null,
   "metadata": {
    "collapsed": true
   },
   "outputs": [],
   "source": []
  },
  {
   "cell_type": "code",
   "execution_count": null,
   "metadata": {
    "collapsed": true
   },
   "outputs": [],
   "source": []
  }
 ],
 "metadata": {
  "kernelspec": {
   "display_name": "Python 2",
   "language": "python",
   "name": "python2"
  },
  "language_info": {
   "codemirror_mode": {
    "name": "ipython",
    "version": 2
   },
   "file_extension": ".py",
   "mimetype": "text/x-python",
   "name": "python",
   "nbconvert_exporter": "python",
   "pygments_lexer": "ipython2",
   "version": "2.7.12"
  }
 },
 "nbformat": 4,
 "nbformat_minor": 0
}
